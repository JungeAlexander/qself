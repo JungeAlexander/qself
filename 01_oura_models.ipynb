{
 "cells": [
  {
   "attachments": {},
   "cell_type": "markdown",
   "metadata": {},
   "source": [
    "# oura_model\n",
    "\n",
    "> pydantic models for Oura API responses"
   ]
  },
  {
   "cell_type": "code",
   "execution_count": 1,
   "metadata": {},
   "outputs": [],
   "source": [
    "# | default_exp oura_models\n"
   ]
  },
  {
   "cell_type": "code",
   "execution_count": 2,
   "metadata": {},
   "outputs": [],
   "source": [
    "# | export\n",
    "import datetime\n",
    "from enum import Enum\n",
    "\n",
    "from pydantic import BaseModel, Extra, Field\n"
   ]
  },
  {
   "cell_type": "code",
   "execution_count": 3,
   "metadata": {},
   "outputs": [],
   "source": [
    "# | export\n",
    "class OuraBaseResponse(BaseModel):\n",
    "    data: list\n",
    "    next_token: str | None = Field(..., description=\"Continuation token\")\n",
    "\n",
    "\n",
    "class WorkoutIntensityEnum(str, Enum):\n",
    "    easy = \"easy\"\n",
    "    moderate = \"moderate\"\n",
    "    hard = \"hard\"\n",
    "\n",
    "\n",
    "class OuraGenericData(BaseModel):\n",
    "    day: datetime.date = Field(..., description=\"Date of the activity\")\n",
    "\n",
    "    class Config:\n",
    "        extra = Extra.allow\n",
    "\n",
    "\n",
    "class OuraGenericResponse(OuraBaseResponse):\n",
    "    data: list[OuraGenericData]\n",
    "\n",
    "\n",
    "class OuraWorkoutData(BaseModel):\n",
    "    activity: str = Field(..., description=\"Name of the activity\")\n",
    "    calories: int | None = Field(..., description=\"Active calorie burn\")\n",
    "    day: datetime.date = Field(..., description=\"Date of the activity\")\n",
    "    distance: float | None = Field(..., description=\"Distance covered\")\n",
    "    end_datetime: datetime.datetime = Field(..., description=\"End date and time\")\n",
    "    intensity: WorkoutIntensityEnum = Field(..., description=\"Workout intensity\")\n",
    "    label: str | None = Field(..., description=\"Label of the activity\")\n",
    "    source: str = Field(..., description=\"Source of the activity\")\n",
    "    start_datetime: datetime.datetime = Field(..., description=\"Start date and time\")\n",
    "\n",
    "\n",
    "class OuraWorkoutResponse(OuraBaseResponse):\n",
    "    data: list[OuraWorkoutData]\n"
   ]
  },
  {
   "cell_type": "code",
   "execution_count": 4,
   "metadata": {},
   "outputs": [],
   "source": [
    "example_workout_response = {\n",
    "    \"data\": [\n",
    "        {\n",
    "            \"activity\": \"walking\",\n",
    "            \"calories\": 100,\n",
    "            \"day\": \"2021-02-01\",\n",
    "            \"distance\": 1500.5,\n",
    "            \"end_datetime\": \"2021-02-01T01:00:00.000000+00:00\",\n",
    "            \"intensity\": \"moderate\",\n",
    "            \"label\": None,\n",
    "            \"source\": \"manual\",\n",
    "            \"start_datetime\": \"2021-02-01T01:30:00.000000+00:00\",\n",
    "        }\n",
    "    ],\n",
    "    \"next_token\": None,\n",
    "}\n"
   ]
  },
  {
   "cell_type": "code",
   "execution_count": 5,
   "metadata": {},
   "outputs": [],
   "source": [
    "owr = OuraWorkoutResponse.parse_obj(example_workout_response)\n"
   ]
  },
  {
   "cell_type": "code",
   "execution_count": 6,
   "metadata": {},
   "outputs": [
    {
     "data": {
      "text/plain": [
       "OuraWorkoutData(activity='walking', calories=100, day=datetime.date(2021, 2, 1), distance=1500.5, end_datetime=datetime.datetime(2021, 2, 1, 1, 0, tzinfo=datetime.timezone.utc), intensity=<WorkoutIntensityEnum.moderate: 'moderate'>, label=None, source='manual', start_datetime=datetime.datetime(2021, 2, 1, 1, 30, tzinfo=datetime.timezone.utc))"
      ]
     },
     "execution_count": 6,
     "metadata": {},
     "output_type": "execute_result"
    }
   ],
   "source": [
    "owr.data[0]\n"
   ]
  },
  {
   "cell_type": "code",
   "execution_count": 7,
   "metadata": {},
   "outputs": [],
   "source": [
    "assert owr.data[0].activity == \"walking\"\n"
   ]
  },
  {
   "cell_type": "code",
   "execution_count": 8,
   "metadata": {},
   "outputs": [],
   "source": [
    "# | hide\n",
    "from nbdev.showdoc import *\n"
   ]
  },
  {
   "cell_type": "code",
   "execution_count": 9,
   "metadata": {},
   "outputs": [],
   "source": [
    "# | hide\n",
    "import nbdev\n",
    "\n",
    "nbdev.nbdev_export()\n"
   ]
  }
 ],
 "metadata": {
  "kernelspec": {
   "display_name": "Python 3",
   "language": "python",
   "name": "python3"
  },
  "language_info": {
   "codemirror_mode": {
    "name": "ipython",
    "version": 3
   },
   "file_extension": ".py",
   "mimetype": "text/x-python",
   "name": "python",
   "nbconvert_exporter": "python",
   "pygments_lexer": "ipython3",
   "version": "3.10.6 (main, Sep  1 2022, 08:23:40) [Clang 13.1.6 (clang-1316.0.21.2.5)]"
  },
  "orig_nbformat": 4,
  "vscode": {
   "interpreter": {
    "hash": "9b8e6b30325e83c49f7b5413c7e72816cffe2ab4b97aeedf6e2cc6d8e0b091ac"
   }
  }
 },
 "nbformat": 4,
 "nbformat_minor": 2
}
