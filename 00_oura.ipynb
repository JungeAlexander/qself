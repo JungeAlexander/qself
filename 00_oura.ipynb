{
 "cells": [
  {
   "cell_type": "markdown",
   "metadata": {},
   "source": [
    "# oura\n",
    "\n",
    "> main module with qself functionality for the Oura API"
   ]
  },
  {
   "cell_type": "code",
   "execution_count": null,
   "metadata": {},
   "outputs": [],
   "source": [
    "#| default_exp oura"
   ]
  },
  {
   "cell_type": "code",
   "execution_count": null,
   "metadata": {},
   "outputs": [],
   "source": [
    "#| export\n",
    "from datetime import date, datetime, timedelta\n",
    "import logging\n",
    "import os\n",
    "\n",
    "from dotenv import load_dotenv\n",
    "import requests\n",
    "\n",
    "from qself.oura_models import OuraGenericResponse, OuraWorkoutResponse"
   ]
  },
  {
   "cell_type": "code",
   "execution_count": null,
   "metadata": {},
   "outputs": [],
   "source": [
    "logger = logging.getLogger(__name__)\n",
    "logger.setLevel(logging.DEBUG)"
   ]
  },
  {
   "cell_type": "code",
   "execution_count": null,
   "metadata": {},
   "outputs": [],
   "source": [
    "# | export\n",
    "class OuraAPIClient:\n",
    "\n",
    "    ENDPOINT_TO_API_VERSION = {\n",
    "        \"activity\": \"v1\",\n",
    "        \"bedtime\": \"v1\",\n",
    "        \"daily_activity\": \"v2\",\n",
    "        \"heartrate\": \"v2\",\n",
    "        \"personal_info\": \"v2\",\n",
    "        \"readiness\": \"v1\",\n",
    "        \"session\": \"v2\",\n",
    "        \"sleep\": \"v1\",\n",
    "        \"tag\": \"v2\",\n",
    "        \"workout\": \"v2\",\n",
    "    }\n",
    "\n",
    "    ENDPOINT_TO_RESPONSE_MODEL = {\n",
    "        \"activity\": OuraGenericResponse,\n",
    "        \"bedtime\": OuraGenericResponse,\n",
    "        \"daily_activity\": OuraGenericResponse,\n",
    "        \"heartrate\": OuraGenericResponse,\n",
    "        \"personal_info\": OuraGenericResponse,\n",
    "        \"readiness\": OuraGenericResponse,\n",
    "        \"session\": OuraGenericResponse,\n",
    "        \"sleep\": OuraGenericResponse,\n",
    "        \"tag\": OuraGenericResponse,\n",
    "        \"workout\": OuraWorkoutResponse,\n",
    "    }\n",
    "\n",
    "    API_VERSION_TO_BASE_URL = {\n",
    "        \"v1\": \"https://api.ouraring.com/v1\",\n",
    "        \"v2\": \"https://api.ouraring.com/v2/usercollection\",\n",
    "    }\n",
    "\n",
    "    API_VERSION_TO_DATE_POSTFIX = {\"v1\": \"\", \"v2\": \"_date\"}\n",
    "\n",
    "    def __init__(self, personal_token):\n",
    "        self.personal_token = personal_token\n",
    "\n",
    "    def __call__(\n",
    "        self, endpoint: str, start: str = None, end: str = None, *, next_token=None, i=0\n",
    "    ) -> OuraGenericResponse:\n",
    "        api_version = self.ENDPOINT_TO_API_VERSION[endpoint]\n",
    "        if api_version != \"v2\" and next_token is not None:\n",
    "            raise ValueError(\"Only v2 API supports next_token argument.\")\n",
    "        base_url = self.API_VERSION_TO_BASE_URL[api_version]\n",
    "        start_param = f\"start{self.API_VERSION_TO_DATE_POSTFIX[api_version]}\"\n",
    "        end_param = f\"end{self.API_VERSION_TO_DATE_POSTFIX[api_version]}\"\n",
    "        url = f\"{base_url}/{endpoint}\"  # TODO more robust URL joining\n",
    "        if start is None:\n",
    "            params = None if end is None else {end_param: end}\n",
    "        else:\n",
    "            params = {\n",
    "                start_param: start,\n",
    "                end_param: end,\n",
    "            }  # TODO what if end is None? test this\n",
    "        if next_token is not None:\n",
    "            params[\"next_token\"] = next_token\n",
    "        headers = {\"Authorization\": f\"Bearer {self.personal_token}\"}\n",
    "        response = requests.request(\"GET\", url, headers=headers, params=params)\n",
    "        response.raise_for_status()\n",
    "        j = response.json()\n",
    "        model = self.ENDPOINT_TO_RESPONSE_MODEL[endpoint].parse_obj(j)\n",
    "        if model.next_token is not None:\n",
    "            logger.debug(\n",
    "                f\"Using continuation token {i}, last_date {model.data[-1].day}: {model.next_token}\"\n",
    "            )\n",
    "            new_start = (model.data[-1].day + timedelta(days=1)).isoformat()\n",
    "            j_new = self(endpoint, new_start, end, next_token=model.next_token, i=i + 1)\n",
    "            model.data.extend(j_new.data)\n",
    "        return model"
   ]
  },
  {
   "cell_type": "code",
   "execution_count": null,
   "metadata": {},
   "outputs": [],
   "source": [
    "#| hide\n",
    "load_dotenv()"
   ]
  },
  {
   "cell_type": "code",
   "execution_count": null,
   "metadata": {},
   "outputs": [],
   "source": [
    "client = OuraAPIClient(os.environ[\"OURA_PERSONAL_ACCESS_TOKEN\"])"
   ]
  },
  {
   "cell_type": "code",
   "execution_count": null,
   "metadata": {},
   "outputs": [],
   "source": [
    "wo = client(\"workout\", \"2022-01-02\", \"2022-02-01\")"
   ]
  },
  {
   "cell_type": "code",
   "execution_count": null,
   "metadata": {},
   "outputs": [],
   "source": [
    "da = client(\"daily_activity\", \"2022-01-01\", \"2022-01-02\")"
   ]
  },
  {
   "cell_type": "code",
   "execution_count": null,
   "metadata": {},
   "outputs": [],
   "source": [
    "assert da.data[0].day == date(2022, 1, 1)"
   ]
  },
  {
   "cell_type": "code",
   "execution_count": null,
   "metadata": {},
   "outputs": [],
   "source": [
    "for d in da.data:\n",
    "    print(sorted(d.dict().keys()))"
   ]
  },
  {
   "cell_type": "code",
   "execution_count": null,
   "metadata": {},
   "outputs": [],
   "source": [
    "#| hide\n",
    "from nbdev.showdoc import *"
   ]
  },
  {
   "cell_type": "code",
   "execution_count": null,
   "metadata": {},
   "outputs": [],
   "source": [
    "#| hide\n",
    "import nbdev; nbdev.nbdev_export()"
   ]
  }
 ],
 "metadata": {
  "kernelspec": {
   "display_name": "qself",
   "language": "python",
   "name": "python3"
  }
 },
 "nbformat": 4,
 "nbformat_minor": 4
}
