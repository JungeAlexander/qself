{
 "cells": [
  {
   "cell_type": "markdown",
   "metadata": {},
   "source": [
    "# oura\n",
    "\n",
    "> main module with qself functionality for the Oura API"
   ]
  },
  {
   "cell_type": "code",
   "execution_count": 1,
   "metadata": {},
   "outputs": [],
   "source": [
    "#| default_exp oura"
   ]
  },
  {
   "cell_type": "code",
   "execution_count": 2,
   "metadata": {},
   "outputs": [],
   "source": [
    "#| export\n",
    "from datetime import date, datetime, timedelta\n",
    "import logging\n",
    "import os\n",
    "\n",
    "from dotenv import load_dotenv\n",
    "import requests\n",
    "\n",
    "from qself.oura_models import OuraGenericResponse, OuraWorkoutResponse"
   ]
  },
  {
   "cell_type": "code",
   "execution_count": 3,
   "metadata": {},
   "outputs": [],
   "source": [
    "logger = logging.getLogger(__name__)\n",
    "logger.setLevel(logging.DEBUG)"
   ]
  },
  {
   "cell_type": "code",
   "execution_count": 4,
   "metadata": {},
   "outputs": [],
   "source": [
    "# | export\n",
    "class OuraAPIClient:\n",
    "\n",
    "    ENDPOINT_TO_API_VERSION = {\n",
    "        \"activity\": \"v1\",\n",
    "        \"bedtime\": \"v1\",\n",
    "        \"daily_activity\": \"v2\",\n",
    "        \"heartrate\": \"v2\",\n",
    "        \"personal_info\": \"v2\",\n",
    "        \"readiness\": \"v1\",\n",
    "        \"session\": \"v2\",\n",
    "        \"sleep\": \"v1\",\n",
    "        \"tag\": \"v2\",\n",
    "        \"workout\": \"v2\",\n",
    "    }\n",
    "\n",
    "    ENDPOINT_TO_RESPONSE_MODEL = {\n",
    "        \"activity\": OuraGenericResponse,\n",
    "        \"bedtime\": OuraGenericResponse,\n",
    "        \"daily_activity\": OuraGenericResponse,\n",
    "        \"heartrate\": OuraGenericResponse,\n",
    "        \"personal_info\": OuraGenericResponse,\n",
    "        \"readiness\": OuraGenericResponse,\n",
    "        \"session\": OuraGenericResponse,\n",
    "        \"sleep\": OuraGenericResponse,\n",
    "        \"tag\": OuraGenericResponse,\n",
    "        \"workout\": OuraWorkoutResponse,\n",
    "    }\n",
    "\n",
    "    API_VERSION_TO_BASE_URL = {\n",
    "        \"v1\": \"https://api.ouraring.com/v1\",\n",
    "        \"v2\": \"https://api.ouraring.com/v2/usercollection\",\n",
    "    }\n",
    "\n",
    "    API_VERSION_TO_DATE_POSTFIX = {\"v1\": \"\", \"v2\": \"_date\"}\n",
    "\n",
    "    def __init__(self, personal_token):\n",
    "        self.personal_token = personal_token\n",
    "\n",
    "    def __call__(\n",
    "        self, endpoint: str, start: str = None, end: str = None, *, next_token=None, i=0\n",
    "    ) -> OuraGenericResponse:\n",
    "        api_version = self.ENDPOINT_TO_API_VERSION[endpoint]\n",
    "        if api_version != \"v2\" and next_token is not None:\n",
    "            raise ValueError(\"Only v2 API supports next_token argument.\")\n",
    "        base_url = self.API_VERSION_TO_BASE_URL[api_version]\n",
    "        start_param = f\"start{self.API_VERSION_TO_DATE_POSTFIX[api_version]}\"\n",
    "        end_param = f\"end{self.API_VERSION_TO_DATE_POSTFIX[api_version]}\"\n",
    "        url = f\"{base_url}/{endpoint}\"  # TODO more robust URL joining\n",
    "        if start is None:\n",
    "            params = None if end is None else {end_param: end}\n",
    "        else:\n",
    "            params = {\n",
    "                start_param: start,\n",
    "                end_param: end,\n",
    "            }  # TODO what if end is None? test this\n",
    "        if next_token is not None:\n",
    "            params[\"next_token\"] = next_token\n",
    "        headers = {\"Authorization\": f\"Bearer {self.personal_token}\"}\n",
    "        response = requests.request(\"GET\", url, headers=headers, params=params)\n",
    "        j = response.json()\n",
    "        model = self.ENDPOINT_TO_RESPONSE_MODEL[endpoint].parse_obj(j)\n",
    "        if model.next_token is not None:\n",
    "            logger.debug(\n",
    "                f\"Using continuation token {i}, last_date {model.data[-1].day}: {model.next_token}\"\n",
    "            )\n",
    "            new_start = (model.data[-1].day + timedelta(days=1)).isoformat()\n",
    "            j_new = self(endpoint, new_start, end, next_token=model.next_token, i=i + 1)\n",
    "            model.data.extend(j_new.data)\n",
    "        return model"
   ]
  },
  {
   "cell_type": "code",
   "execution_count": 5,
   "metadata": {},
   "outputs": [
    {
     "data": {
      "text/plain": [
       "True"
      ]
     },
     "execution_count": 5,
     "metadata": {},
     "output_type": "execute_result"
    }
   ],
   "source": [
    "#| hide\n",
    "load_dotenv()"
   ]
  },
  {
   "cell_type": "code",
   "execution_count": 6,
   "metadata": {},
   "outputs": [],
   "source": [
    "client = OuraAPIClient(os.environ[\"OURA_PERSONAL_ACCESS_TOKEN\"])"
   ]
  },
  {
   "cell_type": "code",
   "execution_count": 7,
   "metadata": {},
   "outputs": [],
   "source": [
    "wo = client(\"workout\", \"2022-01-02\", \"2022-02-01\")"
   ]
  },
  {
   "cell_type": "code",
   "execution_count": 8,
   "metadata": {},
   "outputs": [],
   "source": [
    "da = client(\"daily_activity\", \"2022-01-01\", \"2022-01-02\")"
   ]
  },
  {
   "cell_type": "code",
   "execution_count": 9,
   "metadata": {},
   "outputs": [],
   "source": [
    "assert da.data[0].day == date(2022, 1, 1)"
   ]
  },
  {
   "cell_type": "code",
   "execution_count": 10,
   "metadata": {},
   "outputs": [
    {
     "name": "stdout",
     "output_type": "stream",
     "text": [
      "['active_calories', 'average_met_minutes', 'class_5_min', 'contributors', 'day', 'equivalent_walking_distance', 'high_activity_met_minutes', 'high_activity_time', 'inactivity_alerts', 'low_activity_met_minutes', 'low_activity_time', 'medium_activity_met_minutes', 'medium_activity_time', 'met', 'meters_to_target', 'non_wear_time', 'resting_time', 'score', 'sedentary_met_minutes', 'sedentary_time', 'steps', 'target_calories', 'target_meters', 'timestamp', 'total_calories']\n"
     ]
    }
   ],
   "source": [
    "for d in da.data:\n",
    "    print(sorted(d.dict().keys()))"
   ]
  },
  {
   "cell_type": "markdown",
   "metadata": {},
   "source": [
    "Longer time frames are supported, too, using automatically handled continuation tokens:"
   ]
  },
  {
   "cell_type": "code",
   "execution_count": 11,
   "metadata": {},
   "outputs": [
    {
     "ename": "JSONDecodeError",
     "evalue": "Expecting value: line 1 column 1 (char 0)",
     "output_type": "error",
     "traceback": [
      "\u001b[0;31m---------------------------------------------------------------------------\u001b[0m",
      "\u001b[0;31mJSONDecodeError\u001b[0m                           Traceback (most recent call last)",
      "File \u001b[0;32m~/.pyenv/versions/3.10.6/envs/qself/lib/python3.10/site-packages/requests/models.py:971\u001b[0m, in \u001b[0;36mResponse.json\u001b[0;34m(self, **kwargs)\u001b[0m\n\u001b[1;32m    970\u001b[0m \u001b[39mtry\u001b[39;00m:\n\u001b[0;32m--> 971\u001b[0m     \u001b[39mreturn\u001b[39;00m complexjson\u001b[39m.\u001b[39;49mloads(\u001b[39mself\u001b[39;49m\u001b[39m.\u001b[39;49mtext, \u001b[39m*\u001b[39;49m\u001b[39m*\u001b[39;49mkwargs)\n\u001b[1;32m    972\u001b[0m \u001b[39mexcept\u001b[39;00m JSONDecodeError \u001b[39mas\u001b[39;00m e:\n\u001b[1;32m    973\u001b[0m     \u001b[39m# Catch JSON-related errors and raise as requests.JSONDecodeError\u001b[39;00m\n\u001b[1;32m    974\u001b[0m     \u001b[39m# This aliases json.JSONDecodeError and simplejson.JSONDecodeError\u001b[39;00m\n",
      "File \u001b[0;32m~/.pyenv/versions/3.10.6/lib/python3.10/json/__init__.py:346\u001b[0m, in \u001b[0;36mloads\u001b[0;34m(s, cls, object_hook, parse_float, parse_int, parse_constant, object_pairs_hook, **kw)\u001b[0m\n\u001b[1;32m    343\u001b[0m \u001b[39mif\u001b[39;00m (\u001b[39mcls\u001b[39m \u001b[39mis\u001b[39;00m \u001b[39mNone\u001b[39;00m \u001b[39mand\u001b[39;00m object_hook \u001b[39mis\u001b[39;00m \u001b[39mNone\u001b[39;00m \u001b[39mand\u001b[39;00m\n\u001b[1;32m    344\u001b[0m         parse_int \u001b[39mis\u001b[39;00m \u001b[39mNone\u001b[39;00m \u001b[39mand\u001b[39;00m parse_float \u001b[39mis\u001b[39;00m \u001b[39mNone\u001b[39;00m \u001b[39mand\u001b[39;00m\n\u001b[1;32m    345\u001b[0m         parse_constant \u001b[39mis\u001b[39;00m \u001b[39mNone\u001b[39;00m \u001b[39mand\u001b[39;00m object_pairs_hook \u001b[39mis\u001b[39;00m \u001b[39mNone\u001b[39;00m \u001b[39mand\u001b[39;00m \u001b[39mnot\u001b[39;00m kw):\n\u001b[0;32m--> 346\u001b[0m     \u001b[39mreturn\u001b[39;00m _default_decoder\u001b[39m.\u001b[39;49mdecode(s)\n\u001b[1;32m    347\u001b[0m \u001b[39mif\u001b[39;00m \u001b[39mcls\u001b[39m \u001b[39mis\u001b[39;00m \u001b[39mNone\u001b[39;00m:\n",
      "File \u001b[0;32m~/.pyenv/versions/3.10.6/lib/python3.10/json/decoder.py:337\u001b[0m, in \u001b[0;36mJSONDecoder.decode\u001b[0;34m(self, s, _w)\u001b[0m\n\u001b[1;32m    333\u001b[0m \u001b[39m\"\"\"Return the Python representation of ``s`` (a ``str`` instance\u001b[39;00m\n\u001b[1;32m    334\u001b[0m \u001b[39mcontaining a JSON document).\u001b[39;00m\n\u001b[1;32m    335\u001b[0m \n\u001b[1;32m    336\u001b[0m \u001b[39m\"\"\"\u001b[39;00m\n\u001b[0;32m--> 337\u001b[0m obj, end \u001b[39m=\u001b[39m \u001b[39mself\u001b[39;49m\u001b[39m.\u001b[39;49mraw_decode(s, idx\u001b[39m=\u001b[39;49m_w(s, \u001b[39m0\u001b[39;49m)\u001b[39m.\u001b[39;49mend())\n\u001b[1;32m    338\u001b[0m end \u001b[39m=\u001b[39m _w(s, end)\u001b[39m.\u001b[39mend()\n",
      "File \u001b[0;32m~/.pyenv/versions/3.10.6/lib/python3.10/json/decoder.py:355\u001b[0m, in \u001b[0;36mJSONDecoder.raw_decode\u001b[0;34m(self, s, idx)\u001b[0m\n\u001b[1;32m    354\u001b[0m \u001b[39mexcept\u001b[39;00m \u001b[39mStopIteration\u001b[39;00m \u001b[39mas\u001b[39;00m err:\n\u001b[0;32m--> 355\u001b[0m     \u001b[39mraise\u001b[39;00m JSONDecodeError(\u001b[39m\"\u001b[39m\u001b[39mExpecting value\u001b[39m\u001b[39m\"\u001b[39m, s, err\u001b[39m.\u001b[39mvalue) \u001b[39mfrom\u001b[39;00m \u001b[39mNone\u001b[39m\n\u001b[1;32m    356\u001b[0m \u001b[39mreturn\u001b[39;00m obj, end\n",
      "\u001b[0;31mJSONDecodeError\u001b[0m: Expecting value: line 1 column 1 (char 0)",
      "\nDuring handling of the above exception, another exception occurred:\n",
      "\u001b[0;31mJSONDecodeError\u001b[0m                           Traceback (most recent call last)",
      "\u001b[1;32m/Users/alexanderjunge/Code/qself/00_oura.ipynb Cell 13\u001b[0m in \u001b[0;36m<cell line: 1>\u001b[0;34m()\u001b[0m\n\u001b[0;32m----> <a href='vscode-notebook-cell:/Users/alexanderjunge/Code/qself/00_oura.ipynb#X15sZmlsZQ%3D%3D?line=0'>1</a>\u001b[0m da \u001b[39m=\u001b[39m client(\u001b[39m\"\u001b[39;49m\u001b[39mdaily_activity\u001b[39;49m\u001b[39m\"\u001b[39;49m, \u001b[39m\"\u001b[39;49m\u001b[39m2010-01-01\u001b[39;49m\u001b[39m\"\u001b[39;49m, \u001b[39m\"\u001b[39;49m\u001b[39m2022-06-30\u001b[39;49m\u001b[39m\"\u001b[39;49m)\n",
      "\u001b[1;32m/Users/alexanderjunge/Code/qself/00_oura.ipynb Cell 13\u001b[0m in \u001b[0;36mOuraAPIClient.__call__\u001b[0;34m(self, endpoint, start, end, next_token, i)\u001b[0m\n\u001b[1;32m     <a href='vscode-notebook-cell:/Users/alexanderjunge/Code/qself/00_oura.ipynb#X15sZmlsZQ%3D%3D?line=63'>64</a>\u001b[0m     logger\u001b[39m.\u001b[39mdebug(\n\u001b[1;32m     <a href='vscode-notebook-cell:/Users/alexanderjunge/Code/qself/00_oura.ipynb#X15sZmlsZQ%3D%3D?line=64'>65</a>\u001b[0m         \u001b[39mf\u001b[39m\u001b[39m\"\u001b[39m\u001b[39mUsing continuation token \u001b[39m\u001b[39m{\u001b[39;00mi\u001b[39m}\u001b[39;00m\u001b[39m, last_date \u001b[39m\u001b[39m{\u001b[39;00mmodel\u001b[39m.\u001b[39mdata[\u001b[39m-\u001b[39m\u001b[39m1\u001b[39m]\u001b[39m.\u001b[39mday\u001b[39m}\u001b[39;00m\u001b[39m: \u001b[39m\u001b[39m{\u001b[39;00mmodel\u001b[39m.\u001b[39mnext_token\u001b[39m}\u001b[39;00m\u001b[39m\"\u001b[39m\n\u001b[1;32m     <a href='vscode-notebook-cell:/Users/alexanderjunge/Code/qself/00_oura.ipynb#X15sZmlsZQ%3D%3D?line=65'>66</a>\u001b[0m     )\n\u001b[1;32m     <a href='vscode-notebook-cell:/Users/alexanderjunge/Code/qself/00_oura.ipynb#X15sZmlsZQ%3D%3D?line=66'>67</a>\u001b[0m     new_start \u001b[39m=\u001b[39m (model\u001b[39m.\u001b[39mdata[\u001b[39m-\u001b[39m\u001b[39m1\u001b[39m]\u001b[39m.\u001b[39mday \u001b[39m+\u001b[39m timedelta(days\u001b[39m=\u001b[39m\u001b[39m1\u001b[39m))\u001b[39m.\u001b[39misoformat()\n\u001b[0;32m---> <a href='vscode-notebook-cell:/Users/alexanderjunge/Code/qself/00_oura.ipynb#X15sZmlsZQ%3D%3D?line=67'>68</a>\u001b[0m     j_new \u001b[39m=\u001b[39m \u001b[39mself\u001b[39;49m(endpoint, new_start, end, next_token\u001b[39m=\u001b[39;49mmodel\u001b[39m.\u001b[39;49mnext_token, i\u001b[39m=\u001b[39;49mi \u001b[39m+\u001b[39;49m \u001b[39m1\u001b[39;49m)\n\u001b[1;32m     <a href='vscode-notebook-cell:/Users/alexanderjunge/Code/qself/00_oura.ipynb#X15sZmlsZQ%3D%3D?line=68'>69</a>\u001b[0m     model\u001b[39m.\u001b[39mdata\u001b[39m.\u001b[39mextend(j_new\u001b[39m.\u001b[39mdata)\n\u001b[1;32m     <a href='vscode-notebook-cell:/Users/alexanderjunge/Code/qself/00_oura.ipynb#X15sZmlsZQ%3D%3D?line=69'>70</a>\u001b[0m \u001b[39mreturn\u001b[39;00m model\n",
      "\u001b[1;32m/Users/alexanderjunge/Code/qself/00_oura.ipynb Cell 13\u001b[0m in \u001b[0;36mOuraAPIClient.__call__\u001b[0;34m(self, endpoint, start, end, next_token, i)\u001b[0m\n\u001b[1;32m     <a href='vscode-notebook-cell:/Users/alexanderjunge/Code/qself/00_oura.ipynb#X15sZmlsZQ%3D%3D?line=58'>59</a>\u001b[0m headers \u001b[39m=\u001b[39m {\u001b[39m\"\u001b[39m\u001b[39mAuthorization\u001b[39m\u001b[39m\"\u001b[39m: \u001b[39mf\u001b[39m\u001b[39m\"\u001b[39m\u001b[39mBearer \u001b[39m\u001b[39m{\u001b[39;00m\u001b[39mself\u001b[39m\u001b[39m.\u001b[39mpersonal_token\u001b[39m}\u001b[39;00m\u001b[39m\"\u001b[39m}\n\u001b[1;32m     <a href='vscode-notebook-cell:/Users/alexanderjunge/Code/qself/00_oura.ipynb#X15sZmlsZQ%3D%3D?line=59'>60</a>\u001b[0m response \u001b[39m=\u001b[39m requests\u001b[39m.\u001b[39mrequest(\u001b[39m\"\u001b[39m\u001b[39mGET\u001b[39m\u001b[39m\"\u001b[39m, url, headers\u001b[39m=\u001b[39mheaders, params\u001b[39m=\u001b[39mparams)\n\u001b[0;32m---> <a href='vscode-notebook-cell:/Users/alexanderjunge/Code/qself/00_oura.ipynb#X15sZmlsZQ%3D%3D?line=60'>61</a>\u001b[0m j \u001b[39m=\u001b[39m response\u001b[39m.\u001b[39;49mjson()\n\u001b[1;32m     <a href='vscode-notebook-cell:/Users/alexanderjunge/Code/qself/00_oura.ipynb#X15sZmlsZQ%3D%3D?line=61'>62</a>\u001b[0m model \u001b[39m=\u001b[39m \u001b[39mself\u001b[39m\u001b[39m.\u001b[39mENDPOINT_TO_RESPONSE_MODEL[endpoint]\u001b[39m.\u001b[39mparse_obj(j)\n\u001b[1;32m     <a href='vscode-notebook-cell:/Users/alexanderjunge/Code/qself/00_oura.ipynb#X15sZmlsZQ%3D%3D?line=62'>63</a>\u001b[0m \u001b[39mif\u001b[39;00m model\u001b[39m.\u001b[39mnext_token \u001b[39mis\u001b[39;00m \u001b[39mnot\u001b[39;00m \u001b[39mNone\u001b[39;00m:\n",
      "File \u001b[0;32m~/.pyenv/versions/3.10.6/envs/qself/lib/python3.10/site-packages/requests/models.py:975\u001b[0m, in \u001b[0;36mResponse.json\u001b[0;34m(self, **kwargs)\u001b[0m\n\u001b[1;32m    971\u001b[0m     \u001b[39mreturn\u001b[39;00m complexjson\u001b[39m.\u001b[39mloads(\u001b[39mself\u001b[39m\u001b[39m.\u001b[39mtext, \u001b[39m*\u001b[39m\u001b[39m*\u001b[39mkwargs)\n\u001b[1;32m    972\u001b[0m \u001b[39mexcept\u001b[39;00m JSONDecodeError \u001b[39mas\u001b[39;00m e:\n\u001b[1;32m    973\u001b[0m     \u001b[39m# Catch JSON-related errors and raise as requests.JSONDecodeError\u001b[39;00m\n\u001b[1;32m    974\u001b[0m     \u001b[39m# This aliases json.JSONDecodeError and simplejson.JSONDecodeError\u001b[39;00m\n\u001b[0;32m--> 975\u001b[0m     \u001b[39mraise\u001b[39;00m RequestsJSONDecodeError(e\u001b[39m.\u001b[39mmsg, e\u001b[39m.\u001b[39mdoc, e\u001b[39m.\u001b[39mpos)\n",
      "\u001b[0;31mJSONDecodeError\u001b[0m: Expecting value: line 1 column 1 (char 0)"
     ]
    }
   ],
   "source": [
    "da = client(\"daily_activity\", \"2010-01-01\", \"2022-06-30\")"
   ]
  },
  {
   "cell_type": "code",
   "execution_count": null,
   "metadata": {},
   "outputs": [],
   "source": [
    "#| hide\n",
    "from nbdev.showdoc import *"
   ]
  },
  {
   "cell_type": "code",
   "execution_count": null,
   "metadata": {},
   "outputs": [],
   "source": [
    "#| hide\n",
    "import nbdev; nbdev.nbdev_export()"
   ]
  }
 ],
 "metadata": {
  "kernelspec": {
   "display_name": "qself",
   "language": "python",
   "name": "python3"
  },
  "language_info": {
   "codemirror_mode": {
    "name": "ipython",
    "version": 3
   },
   "file_extension": ".py",
   "mimetype": "text/x-python",
   "name": "python",
   "nbconvert_exporter": "python",
   "pygments_lexer": "ipython3",
   "version": "3.10.6"
  },
  "vscode": {
   "interpreter": {
    "hash": "867955832e983f536ef5eded474ae03792118c635771d3a56e78be09ca693194"
   }
  }
 },
 "nbformat": 4,
 "nbformat_minor": 4
}
