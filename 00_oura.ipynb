{
 "cells": [
  {
   "cell_type": "markdown",
   "metadata": {},
   "source": [
    "# oura\n",
    "\n",
    "> main module with qself functionality for the Oura API"
   ]
  },
  {
   "cell_type": "code",
   "execution_count": 1,
   "metadata": {},
   "outputs": [],
   "source": [
    "#| default_exp oura"
   ]
  },
  {
   "cell_type": "code",
   "execution_count": 2,
   "metadata": {},
   "outputs": [],
   "source": [
    "#| export\n",
    "import logging\n",
    "import os\n",
    "\n",
    "from dotenv import load_dotenv\n",
    "import requests"
   ]
  },
  {
   "cell_type": "code",
   "execution_count": 3,
   "metadata": {},
   "outputs": [],
   "source": [
    "#| export\n",
    "class OuraAPIClient:\n",
    "\n",
    "    ENDPOINT_TO_API_VERSION = {\n",
    "        \"activity\": \"v1\",\n",
    "        \"bedtime\": \"v1\",\n",
    "        \"daily_activity\": \"v2\",\n",
    "        \"heartrate\": \"v2\",\n",
    "        \"personal_info\": \"v2\",\n",
    "        \"readiness\": \"v1\",\n",
    "        \"session\": \"v2\",\n",
    "        \"sleep\": \"v1\",\n",
    "        \"tag\": \"v2\",\n",
    "        \"workout\": \"v2\",\n",
    "    }\n",
    "\n",
    "    API_VERSION_TO_BASE_URL = {\n",
    "        \"v1\": \"https://api.ouraring.com/v1\",\n",
    "        \"v2\": \"https://api.ouraring.com/v2/usercollection\",\n",
    "    }\n",
    "\n",
    "    API_VERSION_TO_DATE_POSTFIX = {\"v1\": \"\", \"v2\": \"_date\"}\n",
    "\n",
    "    def __init__(self, personal_token):\n",
    "        self.personal_token = personal_token\n",
    "\n",
    "    def __call__(\n",
    "        self, endpoint: str, start: str = None, end: str = None, *, next_token=None, i=0\n",
    "    ):\n",
    "        api_version = self.ENDPOINT_TO_API_VERSION[endpoint]\n",
    "        if api_version != \"v2\" and next_token is not None:\n",
    "            raise ValueError(\"Only v2 API supports next_token argument.\")\n",
    "        base_url = self.API_VERSION_TO_BASE_URL[api_version]\n",
    "        start_param = f\"start{self.API_VERSION_TO_DATE_POSTFIX[api_version]}\"\n",
    "        end_param = f\"end{self.API_VERSION_TO_DATE_POSTFIX[api_version]}\"\n",
    "        url = f\"{base_url}/{endpoint}\"  # TODO more robust URL joining\n",
    "        if start is None:\n",
    "            params = None if end is None else {end_param: end}\n",
    "        else:\n",
    "            params = {\n",
    "                start_param: start,\n",
    "                end_param: end,\n",
    "            }  # TODO what if end is None? test this\n",
    "        if next_token is not None:\n",
    "            params[\"next_token\"] = next_token\n",
    "        headers = {\"Authorization\": f\"Bearer {self.personal_token}\"}\n",
    "        response = requests.request(\"GET\", url, headers=headers, params=params)\n",
    "        j = response.json()  # TODO check status code and handle errors\n",
    "        if (\"next_token\" in j) and (j[\"next_token\"] is not None):\n",
    "            logging.debug(\n",
    "                f\"Using continuation token {i}, last_date {j['data'][-1]['day']}: {j['next_token']}\"\n",
    "            )\n",
    "            new_start = (\n",
    "                date.fromisoformat(j[\"data\"][-1][\"day\"]) + timedelta(days=1)\n",
    "            ).isoformat()\n",
    "            j_new = self(endpoint, new_start, end, next_token=j[\"next_token\"], i=i + 1)\n",
    "            j[\"data\"].extend(j_new[\"data\"])\n",
    "        return j"
   ]
  },
  {
   "cell_type": "code",
   "execution_count": 4,
   "metadata": {},
   "outputs": [
    {
     "data": {
      "text/plain": [
       "True"
      ]
     },
     "execution_count": 4,
     "metadata": {},
     "output_type": "execute_result"
    }
   ],
   "source": [
    "#| hide\n",
    "load_dotenv()"
   ]
  },
  {
   "cell_type": "code",
   "execution_count": 5,
   "metadata": {},
   "outputs": [],
   "source": [
    "client = OuraAPIClient(os.environ[\"OURA_PERSONAL_ACCESS_TOKEN\"])"
   ]
  },
  {
   "cell_type": "code",
   "execution_count": 6,
   "metadata": {},
   "outputs": [],
   "source": [
    "da = client(\"daily_activity\", \"2022-01-01\", \"2022-01-02\")"
   ]
  },
  {
   "cell_type": "code",
   "execution_count": 7,
   "metadata": {},
   "outputs": [
    {
     "name": "stdout",
     "output_type": "stream",
     "text": [
      "['active_calories', 'average_met_minutes', 'class_5_min', 'contributors', 'day', 'equivalent_walking_distance', 'high_activity_met_minutes', 'high_activity_time', 'inactivity_alerts', 'low_activity_met_minutes', 'low_activity_time', 'medium_activity_met_minutes', 'medium_activity_time', 'met', 'meters_to_target', 'non_wear_time', 'resting_time', 'score', 'sedentary_met_minutes', 'sedentary_time', 'steps', 'target_calories', 'target_meters', 'timestamp', 'total_calories']\n"
     ]
    }
   ],
   "source": [
    "for d in da[\"data\"]:\n",
    "    print(sorted(d.keys()))"
   ]
  },
  {
   "cell_type": "code",
   "execution_count": 8,
   "metadata": {},
   "outputs": [],
   "source": [
    "assert da[\"data\"][0][\"day\"] == \"2022-01-01\""
   ]
  },
  {
   "cell_type": "code",
   "execution_count": 9,
   "metadata": {},
   "outputs": [],
   "source": [
    "#| export\n",
    "def say_hello(to):\n",
    "    \"Say hello to somebody\"\n",
    "    return f'Hello {to}!'"
   ]
  },
  {
   "cell_type": "code",
   "execution_count": 10,
   "metadata": {},
   "outputs": [
    {
     "data": {
      "text/plain": [
       "'Hello Isaac!'"
      ]
     },
     "execution_count": 10,
     "metadata": {},
     "output_type": "execute_result"
    }
   ],
   "source": [
    "say_hello(\"Isaac\")"
   ]
  },
  {
   "cell_type": "code",
   "execution_count": 11,
   "metadata": {},
   "outputs": [],
   "source": [
    "assert say_hello(\"Hamel\")==\"Hello Hamel!\""
   ]
  },
  {
   "cell_type": "code",
   "execution_count": 12,
   "metadata": {},
   "outputs": [],
   "source": [
    "#| hide\n",
    "from nbdev.showdoc import *"
   ]
  },
  {
   "cell_type": "code",
   "execution_count": 13,
   "metadata": {},
   "outputs": [],
   "source": [
    "#| export\n",
    "def foo(): pass"
   ]
  },
  {
   "cell_type": "code",
   "execution_count": 14,
   "metadata": {},
   "outputs": [],
   "source": [
    "#| hide\n",
    "import nbdev; nbdev.nbdev_export()"
   ]
  }
 ],
 "metadata": {
  "kernelspec": {
   "display_name": "Python 3 (ipykernel)",
   "language": "python",
   "name": "python3"
  },
  "language_info": {
   "codemirror_mode": {
    "name": "ipython",
    "version": 3
   },
   "file_extension": ".py",
   "mimetype": "text/x-python",
   "name": "python",
   "nbconvert_exporter": "python",
   "pygments_lexer": "ipython3",
   "version": "3.10.6"
  }
 },
 "nbformat": 4,
 "nbformat_minor": 4
}
